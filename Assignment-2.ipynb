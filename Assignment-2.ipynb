{
 "cells": [
  {
   "cell_type": "markdown",
   "metadata": {},
   "source": [
    "\n",
    " \n",
    " \n"
   ]
  },
  {
   "cell_type": "markdown",
   "metadata": {},
   "source": [
    "#Assignment-2\n",
    "## 2011136110        정요한"
   ]
  },
  {
   "cell_type": "raw",
   "metadata": {},
   "source": [
    "문제① 다음 6 개의 Expression에 대해 Evaluation 결과 값을 출력하고, 해당 결과가 나온 이유에 대해 설명하시오\n",
    "▶ 1 and 2 and 3 and 4\n",
    "▶ 1 or 2 or 3 or 4\n",
    "▶ 1 and 2 or 3 and 4\n",
    "▶ (1 and 2) or (3 and 4)\n",
    "▶ 1 or 2 and 3 or 4\n",
    "▶ (1 or 2) and (3 or 4)\n",
    " "
   ]
  },
  {
   "cell_type": "code",
   "execution_count": 6,
   "metadata": {
    "collapsed": false
   },
   "outputs": [
    {
     "name": "stdout",
     "output_type": "stream",
     "text": [
      "4\n",
      "1\n",
      "2\n",
      "2\n",
      "1\n",
      "3\n",
      "\n",
      "1\n",
      "True\n",
      "1\n"
     ]
    }
   ],
   "source": [
    "print 1 and 2 and 3 and 4\n",
    "print 1 or 2 or 3 or 4\n",
    "print 1 and 2 or 3 and 4\n",
    "print (1 and 2) or (3 and 4)\n",
    "print 1 or 2 and 3 or 4\n",
    "print (1 or 2) and (3 or 4)\n",
    "print\n",
    "\"\"\"시험용\"\"\"\n",
    "print True and 1\n",
    "print 1 and True\n",
    "print 0 or 1"
   ]
  },
  {
   "cell_type": "raw",
   "metadata": {},
   "source": [
    "1. 1 and 2 and 3 and 4\n",
    "일반적으로 and 연산자는 True와 True이 있으면 True을 출력하는 연산자이다. False는 0으로 표시하므로 위 식은 전부 True라고 할 수 있다. and는 결과가 True가 될 때 마지막으로 확인한 값이 오른쪽에 있으므로 마지막으로 확인한 오른쪽에 있는 값을 반환한다.\n",
    "\n",
    "2.  1 or 2 or 3 or 4\n",
    "or 연산자는 연산하고 있는 두 값이 둘중 하나라도 True이면 다음 값이 False라고 해도 True를 반환한다.\n",
    "값을 반환할 때 먼저 왼쪽을 확인하고 왼쪽 값이 True라면 오른쪽에 값이 무엇이 되었든지 True가 되므로 왼쪽에 있는 값을 반환한다.\n",
    "만약 오른쪽이 True이고 왼쪽이 False일 경우 오른쪽 값이 반환 된다.\n",
    "\n",
    "3. 1 and 2 or 3 and 4\n",
    "or와 and가 함께 있을 때에는 and부터 먼저 계산된다.\n",
    "1 and 2 or 3 and 4 = 2 or 4 = 2\n",
    "\n",
    "4. (1 and 2) or (3 and 4)\n",
    "3번과 계산 과정이 동일하다.\n",
    "(1 and 2) or (3 and 4) = 2 or 4 = 2\n",
    "\n",
    "5. 1 or 2 and 3 or 4\n",
    "원리는 3번과 동일하다.\n",
    "1 or 2 and 3 or 4 = 1 or 3 or 4 = 1 or 4 = 1\n",
    "\n",
    "6. (1 or 2) and (3 or 4)\n",
    "이 경우에는 괄호가 우선되어 계산되어야 한다.\n",
    " (1 or 2) and (3 or 4) = 1 and 3 = 3"
   ]
  },
  {
   "cell_type": "raw",
   "metadata": {},
   "source": [
    "문제② 키보드로 정수값을 입력 받고 그 값이 양수인지 음수인지를 비트 연산자를 이용하여 판단하는 프로그램을 작성하시오.\n",
    " \n",
    "▶[참고] 가장 왼쪽에 있는 비트가 0이면 양수이며, 1이면 음수이다.\n",
    "▶[참고] 수업보충자료 (https://github.com/bluebibi/python-e-learning/blob/master/supplement.ipynb) 를 참고하시오."
   ]
  },
  {
   "cell_type": "code",
   "execution_count": 13,
   "metadata": {
    "collapsed": false,
    "scrolled": false
   },
   "outputs": [
    {
     "name": "stdout",
     "output_type": "stream",
     "text": [
      "input integer\n",
      "-5\n",
      "마지막 비트 확인 : -0b1\n",
      "입력하신 정수는 \n",
      "음수 입니다.\n"
     ]
    }
   ],
   "source": [
    "num = input('input integer\\n')\n",
    "a = num >> 7\n",
    "print '마지막 비트 확인 : ' + bin(a)\n",
    "\n",
    "print '입력하신 정수는 ' \n",
    "if(a) : print '음수 입니다.'\n",
    "else  : print '양수 입니다.'"
   ]
  },
  {
   "cell_type": "raw",
   "metadata": {},
   "source": [
    " \n",
    "문제③ 경로에 해당하는 문자열 1개를 입력 받아 그 안에 디렉토리 경로명과 파일명을 분리하여 리스트로 반환하는 함수 div_path(s)를 작성하시오.\n",
    "▶ 인자로 전달하는 문자열은 경로만 들어간다고 가정한다.\n",
    "▶ 각 디렉토리와 파일을 구분하는 문자는 '/'로 가정한다.\n",
    "▶ 반환하는 리스트의 첫번째 원소는 디렉토리이고 두번째 원소는 파일명이다.\n",
    "▶ 다음과 같은 실행 및 출력 결과가 도출되어야 한다.\n",
    "▷ div_path('/usr/local/bin/python')\n",
    "▷ ['/usr/local/bin', 'python']\n",
    "▷ div_path('/home/chulsoo/test.txt')\n",
    "▷ ['/home/chulsoo', 'test.txt']\n",
    "▶ [참고] 리스트(l) 내에 새로운 정수값 (예를 들어 10)을 넣는 방법은 l.append(10) 이다."
   ]
  },
  {
   "cell_type": "code",
   "execution_count": 96,
   "metadata": {
    "collapsed": false
   },
   "outputs": [
    {
     "name": "stdout",
     "output_type": "stream",
     "text": [
      "15\n",
      "['/usr/local/bin', 'python']\n"
     ]
    }
   ],
   "source": [
    "def div_path(s)  :\n",
    "    i = 0\n",
    "    l = []\n",
    "    #j = 0   #잘못된 방법의 흔적\n",
    "    temp = ''\n",
    "    \n",
    "    while(s.find('/',i) != -1)  :          #print path.split(path[3]) 먹힘 그러나 그 주소값의 문자열이 기준이라고 한다.\n",
    "        i = s.find('/',i) + 1              # 마지막 /가 있는 인덱스 탐색하는 반복문\n",
    "    \n",
    "    \"\"\"\n",
    "    while(j in range(i-1)) :               #진짜 노가다.....이렇게 하면 안되는것 같습니다만.. 딱히 다른 방법은 생각이 안납니다.\n",
    "        temp = temp + s[j]\n",
    "        j += 1\n",
    "    \"\"\"\n",
    "    temp = temp + s[:i-1]                  #분명히 안됬는데 갑자기 되는....\n",
    "    \n",
    "    l.append(temp)\n",
    "    temp = ''\n",
    "       \n",
    "    temp = temp + s[i:]\n",
    "    l.append(temp)\n",
    "    print l\n",
    "\n",
    "    \n",
    "path = '/usr/local/bin/python'    \n",
    "div_path(path)\n"
   ]
  },
  {
   "cell_type": "raw",
   "metadata": {},
   "source": [
    "문제④  두 개의 리스트를 인자로 받아서 그 두 개의 리스트에 대한 '합집합'을 반환하는 함수 list_union(lista, listb)를 작성하시오.\n",
    " \n",
    " \n",
    "▶인자로 전달하는 리스트 2 개에는 정수값만 들어간다고 가정하자.\n",
    "▶함수 내에서 새로운 리스트를 만들어 그 리스트 내에 인자로 받은 두 리스트의 모든 원소를 넣어 반환한다.\n",
    "▶반환하는 리스트에는 절대로 중복된 원소가 들어 있으면 안된다 (집합의 조건).\n",
    "▶반환하는 리스트는 정렬이 되어 있어야 한다.\n",
    "▶다음과 같은 실행 및 출력 결과가 도출되어야 한다.\n",
    " ▷ list_union([1, 2, 3], [1, 2, 4])\n",
    "        ◇  [1, 2, 3, 4]\n",
    " ▷ list_union([-10, -5, 0, -1], [100, 9, 0, 9])\n",
    "        ◇  [-10, -5, -1, 0, 9, 100]\n",
    "▷ list_union([0, 1, 2], [0, 1, 2])\n",
    "        ◇  [0, 1, 2]\n",
    "▶[참고] 리스트(l) 내에 새로운 정수값 (예를 들어 10)을 넣는 방법은 l.append(10) 이다.\n",
    "▶[참고] 임의의 정수값 (x)이 리스트 (l) 내에 존재하는지 판단하는 방법은 x in l 이다.\n",
    " "
   ]
  },
  {
   "cell_type": "code",
   "execution_count": 125,
   "metadata": {
    "collapsed": false
   },
   "outputs": [
    {
     "name": "stdout",
     "output_type": "stream",
     "text": [
      "[1, 2, 3, 4]\n"
     ]
    }
   ],
   "source": [
    "def list_union(a,b):\n",
    "    \n",
    "    lenth=a        #lenth : 리스트의 길이를 받기 위한 변수\n",
    "                   #최종 반환값\n",
    "    for i in range(0,len(lenth)):\n",
    "        for x in range(0,len(b)):\n",
    "            if(a[i]==b[x]):\n",
    "                for j in range(x,len(b)-1):\n",
    "                    b[j]=b[j+1]\n",
    "                else:\n",
    "                    continue\n",
    "    lenth = lenth+b          # b 리스트 합체\n",
    "    l_ = set(lenth)          #  set()함수 중복리스트를 없에줌\n",
    "    lenth=list(l_)           #set 타입을 list로 전환\n",
    "    lenth.sort()             # 정렬\n",
    "    return lenth\n",
    "print list_union([1, 2, 3], [1, 2, 4])     "
   ]
  },
  {
   "cell_type": "raw",
   "metadata": {},
   "source": [
    "● [프로젝트 오일러 문제 4]\n",
    "앞에서부터 읽을 때나 뒤에서부터 읽을 때나 모양이 같은 수를 대칭수(palindrome)라고 부릅니다.\n",
    "\n",
    "두 자리 수를 곱해 만들 수 있는 대칭수 중 가장 큰 수는 9009 (= 91 × 99) 입니다.\n",
    "\n",
    "세 자리 수를 곱해 만들 수 있는 가장 큰 대칭수는 얼마입니까?"
   ]
  },
  {
   "cell_type": "code",
   "execution_count": 113,
   "metadata": {
    "collapsed": false
   },
   "outputs": [
    {
     "name": "stdout",
     "output_type": "stream",
     "text": [
      "906609\n"
     ]
    }
   ],
   "source": [
    "i = 0\n",
    "num1 = 0\n",
    "num2 = 0\n",
    "maximum = 0         #최대값 저장하는 변수\n",
    "\n",
    "def reverse(i) :    #앞뒤를 뒤집는 식입니다.\n",
    "    temp = 0\n",
    "    while(i) :\n",
    "        temp *= 10\n",
    "        temp = temp + (i%10)\n",
    "        i /= 10\n",
    "    return temp\n",
    "\n",
    "\n",
    "for i in range(1000) :\n",
    "    j = 0\n",
    "    for j in range(1000) :\n",
    "        result_1 = i * j\n",
    "        result_2 = reverse(result_1)\n",
    "        #result_2 = result[::-1]     #뒤집어질까 했는데 안되네요\n",
    "        if(result_1 == result_2 and result_1 > maximum) :\n",
    "            maximum = result_1\n",
    "            num1 = i\n",
    "            num2 = j\n",
    "        j += 1\n",
    "    i+= 1\n",
    "\n",
    "print maximum\n"
   ]
  },
  {
   "cell_type": "raw",
   "metadata": {},
   "source": [
    "● [프로젝트 오일러 문제 5]\n",
    "1 ~ 10 사이의 어떤 수로도 나누어 떨어지는 가장 작은 수는 2520입니다.\n",
    "\n",
    "그러면 1 ~ 20 사이의 어떤 수로도 나누어 떨어지는 가장 작은 수는 얼마입니까?"
   ]
  },
  {
   "cell_type": "code",
   "execution_count": 121,
   "metadata": {
    "collapsed": false,
    "scrolled": true
   },
   "outputs": [
    {
     "name": "stdout",
     "output_type": "stream",
     "text": [
      "232792560\n"
     ]
    }
   ],
   "source": [
    "result = 0\n",
    "div = 0\n",
    "\n",
    "while(True) :\n",
    "    result += 1  \n",
    "    count = 0\n",
    "    for i in range(1,21) :     #20으로 나누는 과정\n",
    "        if((result % i) == 0) : count += 1\n",
    "    if(count >= 20) :         #20까지 모든 나누기에서 나머지가 없으면\n",
    "        print result          #결과를 출력하고\n",
    "        break                 #무한 반복을 끝냄"
   ]
  },
  {
   "cell_type": "raw",
   "metadata": {},
   "source": [
    "● [프로젝트 오일러 문제 6]\n",
    "1부터 10까지 자연수를 각각 제곱해 더하면 다음과 같습니다 (제곱의 합).\n",
    "\n",
    "12 + 22 + ... + 102 = 385\n",
    "1부터 10을 먼저 더한 다음에 그 결과를 제곱하면 다음과 같습니다 (합의 제곱).\n",
    "\n",
    "(1 + 2 + ... + 10)2 = 552 = 3025\n",
    "따라서 1부터 10까지 자연수에 대해 \"합의 제곱\"과 \"제곱의 합\" 의 차이는 3025 - 385 = 2640 이 됩니다.\n",
    "\n",
    "그러면 1부터 100까지 자연수에 대해 \"합의 제곱\"과 \"제곱의 합\"의 차이는 얼마입니까?"
   ]
  },
  {
   "cell_type": "code",
   "execution_count": 114,
   "metadata": {
    "collapsed": false
   },
   "outputs": [
    {
     "name": "stdout",
     "output_type": "stream",
     "text": [
      "25164150\n"
     ]
    }
   ],
   "source": [
    "sum1=0\n",
    "sum2=0\n",
    "for x in range(1,101):\n",
    "    sum1+=(x*x)\n",
    "    sum2+=x\n",
    "print (sum2*sum2)-sum1"
   ]
  },
  {
   "cell_type": "raw",
   "metadata": {},
   "source": [
    "[Incremental Project] 웹 URL로 지정된 웹페이지를 문자열로 가져와 \n",
    "1) 모든 HTML 태그를 제외한 순수 텍스트 문자열만을 걸러내고, \n",
    "2) 그 순수 텍스트 문자열 안에 존재하는 단어가 총 몇개인지 출력하는 프로그램을 작성하시오. \n",
    " \n",
    "▶ HTML 태그는 다음 조건을 가지는 것이다.\n",
    "▷ < 로 시작하여 >로 끝난다.\n",
    "▷ 예를 들어, 아래와 같은 HTML 내용 내에 한 줄이 있다고 가정하자.\n",
    "<label for=\"keep_signed\">로그인 유지</label>\n",
    "▷ 위 소스에서 HTML 태그를 제외한 순수 텍스트 문자열은 아래와 같다.\n",
    "로그인 유지\n",
    "▷ 한편, 아래와 같은 HTML 한 줄이 있다고 가정하자.\n",
    "<link rel=\"stylesheet\" href=\"/common/css/xe.min.css?20150910092654\" />\n",
    "▷ 위 소스는 HTML 태그로만 구성된 것이며 걸러낼 수 있는 순수 텍스 문자열은 존재하지 않는다.\n",
    " \n",
    "▶ 단어를 나누는 기준은 오로지 공백문자 (whitespace)이다.\n",
    "▷ 즉, 위 순수 텍스트 문자열인 \"로그인 유지\"에서 분리한 단어는 \"로그인\"과 \"유지\"이다.\n",
    "▶ 다음은 URL로 지정된 웹페이지를 특정 문자열로 가져오는 코드이다.\n",
    "▷ 즉, 숙제 코드는 아래 링크를 참조 해야한다.\n",
    " \n",
    "http://nbviewer.ipython.org/github/bluebibi/python-e-learning/blob/master/assignment-2.ipynb\n",
    " "
   ]
  },
  {
   "cell_type": "code",
   "execution_count": null,
   "metadata": {
    "collapsed": false,
    "scrolled": true
   },
   "outputs": [],
   "source": [
    "import urllib2\n",
    "\n",
    "def del_code(a) :            #괄호의 시작 주소와 끝 주소를 찾아내 없에버리는 함수\n",
    "    i = 0\n",
    "    j = 0\n",
    "    i = a.find('<')\n",
    "    j = a.find('>')\n",
    "    for i in range(i,j+1) :\n",
    "        a = a.translate(None, a[i])             \n",
    "        i += 1\n",
    "   \n",
    "\n",
    "\n",
    "source = urllib2.urlopen(\"http://cse.kut.ac.kr/\").read()\n",
    "\n",
    "while(True) :\n",
    "    if(source.find('<') == -1) : \n",
    "        break\n",
    "    del_code(source)\n",
    "            \n",
    "print len(source.split(''))"
   ]
  },
  {
   "cell_type": "raw",
   "metadata": {},
   "source": [
    "시간이......."
   ]
  }
 ],
 "metadata": {
  "kernelspec": {
   "display_name": "Python 2",
   "language": "python",
   "name": "python2"
  },
  "language_info": {
   "codemirror_mode": {
    "name": "ipython",
    "version": 2
   },
   "file_extension": ".py",
   "mimetype": "text/x-python",
   "name": "python",
   "nbconvert_exporter": "python",
   "pygments_lexer": "ipython2",
   "version": "2.7.9"
  }
 },
 "nbformat": 4,
 "nbformat_minor": 0
}
