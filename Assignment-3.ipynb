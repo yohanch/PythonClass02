{
 "cells": [
  {
   "cell_type": "markdown",
   "metadata": {},
   "source": [
    "# Assignment-3\n",
    "###2011136110 정요한\n",
    "\n",
    "###5) 문제 (프로젝트 오일러 3문제 포함하여 총 11개)"
   ]
  },
  {
   "cell_type": "markdown",
   "metadata": {},
   "source": [
    "### L=[1, 2, 3, 4, 5]일 때 다음 각 문장을 수행한 후의 결과를 보고 납득할 만한 이유를 설명하시오.\n",
    "   ###1)\n",
    "   ###L[1:3] = [100]\n",
    "   ###print L"
   ]
  },
  {
   "cell_type": "code",
   "execution_count": 1,
   "metadata": {
    "collapsed": false
   },
   "outputs": [
    {
     "name": "stdout",
     "output_type": "stream",
     "text": [
      "[1, 100, 4, 5]\n",
      "[1, 2, 1000, 6, 7, 8, 9, 10]\n"
     ]
    }
   ],
   "source": [
    "L=[1, 2, 3, 4, 5]\n",
    "L[1:3] = [100]\n",
    "print L\n",
    "\n",
    "L=[1,2,3,5,100,6,7,8,9,10]   ##실험 : 2 ~ 5까지\n",
    "L[2:5] = [1000]\n",
    "print L"
   ]
  },
  {
   "cell_type": "markdown",
   "metadata": {},
   "source": [
    "#설명\n",
    "#### L = [1:3] 은 인덱스 1 부터 3이전까지의 값을 다음에 대입하는 리스트 값으로 변경하라는 뜻이다.\n",
    "#### 슬라이싱 연산자이기 때문에 리스트형의 자료가 필요하다.(L[1] = 100 은 가능)"
   ]
  },
  {
   "cell_type": "markdown",
   "metadata": {},
   "source": [
    "\n",
    "   ### 2)\n",
    "   ###L[1:3] = [(100)]\n",
    "   ###print L"
   ]
  },
  {
   "cell_type": "code",
   "execution_count": 12,
   "metadata": {
    "collapsed": false
   },
   "outputs": [
    {
     "name": "stdout",
     "output_type": "stream",
     "text": [
      "[1, 100, 4, 5]\n"
     ]
    }
   ],
   "source": [
    "L = [1,2,3,4,5]\n",
    "L[1:3] = [(100)]\n",
    "print L"
   ]
  },
  {
   "cell_type": "markdown",
   "metadata": {},
   "source": [
    "#설명\n",
    "####기본적인 것은 위와 동일하다.  (100)은 100과 마찬가지로 int형으로 취급된다.\n",
    "####따라서 L[1:3] = [(100)]는 100이라는 리스트를 인덱스 1 부터 2까지의 리스트를 [100]으로 변경한다."
   ]
  },
  {
   "cell_type": "markdown",
   "metadata": {},
   "source": [
    "#\n",
    "   ####3)\n",
    "   ####L[1:3] = 100\n",
    "   ####print L"
   ]
  },
  {
   "cell_type": "code",
   "execution_count": 14,
   "metadata": {
    "collapsed": false,
    "scrolled": true
   },
   "outputs": [
    {
     "name": "stdout",
     "output_type": "stream",
     "text": [
      "<type 'list'>\n",
      "<type 'int'>\n"
     ]
    },
    {
     "ename": "TypeError",
     "evalue": "can only assign an iterable",
     "output_type": "error",
     "traceback": [
      "\u001b[1;31m---------------------------------------------------------------------------\u001b[0m",
      "\u001b[1;31mTypeError\u001b[0m                                 Traceback (most recent call last)",
      "\u001b[1;32m<ipython-input-14-7cb3e4968ce4>\u001b[0m in \u001b[0;36m<module>\u001b[1;34m()\u001b[0m\n\u001b[0;32m      4\u001b[0m \u001b[1;32mprint\u001b[0m \u001b[0mtype\u001b[0m\u001b[1;33m(\u001b[0m\u001b[1;36m100\u001b[0m\u001b[1;33m)\u001b[0m\u001b[1;33m\u001b[0m\u001b[0m\n\u001b[0;32m      5\u001b[0m \u001b[1;33m\u001b[0m\u001b[0m\n\u001b[1;32m----> 6\u001b[1;33m \u001b[0mL\u001b[0m\u001b[1;33m[\u001b[0m\u001b[1;36m1\u001b[0m\u001b[1;33m:\u001b[0m\u001b[1;36m3\u001b[0m\u001b[1;33m]\u001b[0m \u001b[1;33m=\u001b[0m \u001b[1;36m100\u001b[0m\u001b[1;33m\u001b[0m\u001b[0m\n\u001b[0m\u001b[0;32m      7\u001b[0m \u001b[1;32mprint\u001b[0m \u001b[0mL\u001b[0m\u001b[1;33m\u001b[0m\u001b[0m\n",
      "\u001b[1;31mTypeError\u001b[0m: can only assign an iterable"
     ]
    }
   ],
   "source": [
    "L = [1,2,3,4,5]\n",
    "\n",
    "print type(L)\n",
    "print type(100)\n",
    "\n",
    "L[1:3] = 100\n",
    "print L\n"
   ]
  },
  {
   "cell_type": "markdown",
   "metadata": {},
   "source": [
    "##설명\n",
    "####실행되지 않는다. \n",
    "####100은 int형이고 L은 list 형이기 때문에 타입이 다른 변수에 넣을 수 없다.\n",
    "####자료가 하나인 튜플을 만드려면 (100,)으로 만들어야 한다."
   ]
  },
  {
   "cell_type": "markdown",
   "metadata": {},
   "source": [
    "#\n",
    "###4)\n",
    "###L[1:3] = (100)\n",
    "###print L"
   ]
  },
  {
   "cell_type": "code",
   "execution_count": 17,
   "metadata": {
    "collapsed": false
   },
   "outputs": [
    {
     "name": "stdout",
     "output_type": "stream",
     "text": [
      "<type 'list'>\n",
      "<type 'int'>\n"
     ]
    },
    {
     "ename": "TypeError",
     "evalue": "can only assign an iterable",
     "output_type": "error",
     "traceback": [
      "\u001b[1;31m---------------------------------------------------------------------------\u001b[0m",
      "\u001b[1;31mTypeError\u001b[0m                                 Traceback (most recent call last)",
      "\u001b[1;32m<ipython-input-17-670e5e20fa9a>\u001b[0m in \u001b[0;36m<module>\u001b[1;34m()\u001b[0m\n\u001b[0;32m      4\u001b[0m \u001b[1;32mprint\u001b[0m \u001b[0mtype\u001b[0m\u001b[1;33m(\u001b[0m\u001b[1;33m(\u001b[0m\u001b[1;36m100\u001b[0m\u001b[1;33m)\u001b[0m\u001b[1;33m)\u001b[0m\u001b[1;33m\u001b[0m\u001b[0m\n\u001b[0;32m      5\u001b[0m \u001b[1;33m\u001b[0m\u001b[0m\n\u001b[1;32m----> 6\u001b[1;33m \u001b[0mL\u001b[0m\u001b[1;33m[\u001b[0m\u001b[1;36m1\u001b[0m\u001b[1;33m:\u001b[0m\u001b[1;36m3\u001b[0m\u001b[1;33m]\u001b[0m \u001b[1;33m=\u001b[0m \u001b[1;33m(\u001b[0m\u001b[1;36m100\u001b[0m\u001b[1;33m)\u001b[0m\u001b[1;33m\u001b[0m\u001b[0m\n\u001b[0m\u001b[0;32m      7\u001b[0m \u001b[1;32mprint\u001b[0m \u001b[0mL\u001b[0m\u001b[1;33m\u001b[0m\u001b[0m\n",
      "\u001b[1;31mTypeError\u001b[0m: can only assign an iterable"
     ]
    }
   ],
   "source": [
    "L = [1,2,3,4,5]\n",
    "\n",
    "print type(L)\n",
    "print type((100))\n",
    "\n",
    "L[1:3] = (100)\n",
    "print L"
   ]
  },
  {
   "cell_type": "markdown",
   "metadata": {},
   "source": [
    "#설명\n",
    "#### 3번과 마찬가지다.\n",
    "#### (100)은 int형으로 취급되기 때문에 list형에 들어갈 수 없다."
   ]
  },
  {
   "cell_type": "markdown",
   "metadata": {},
   "source": [
    "#\n",
    "###5)\n",
    "###L[1:3] = (100, 101, 102)\n",
    "###print L"
   ]
  },
  {
   "cell_type": "code",
   "execution_count": 9,
   "metadata": {
    "collapsed": false
   },
   "outputs": [
    {
     "name": "stdout",
     "output_type": "stream",
     "text": [
      "[1, 100, 101, 102, 4, 5]\n",
      "<type 'tuple'> <type 'list'>\n"
     ]
    }
   ],
   "source": [
    "L = [1,2,3,4,5]\n",
    "L[1:3] = (100, 101, 102)\n",
    "print L\n",
    "print type((100, 101, 102)), type(L)"
   ]
  },
  {
   "cell_type": "markdown",
   "metadata": {},
   "source": [
    "#설명\n",
    "#### 튜플과 리스트는 같은 시퀸스형 특성을 공유한다.\n",
    "#### 리스트는 슬라이싱 연산자를 통해 변경이 가능하다.\n",
    "#### 내장함수를 통하여 상호 변경이 가능하다"
   ]
  },
  {
   "cell_type": "markdown",
   "metadata": {},
   "source": [
    "   #\n",
    "   ####6)\n",
    "   ####L[1:3] = [100, 101, 102]\n",
    "   ####print L"
   ]
  },
  {
   "cell_type": "code",
   "execution_count": 7,
   "metadata": {
    "collapsed": false,
    "scrolled": true
   },
   "outputs": [
    {
     "name": "stdout",
     "output_type": "stream",
     "text": [
      "[1, 100, 101, 102, 4, 5]\n"
     ]
    }
   ],
   "source": [
    "L = [1,2,3,4,5]\n",
    "L[1:3] = [100, 101, 102]\n",
    "print L"
   ]
  },
  {
   "cell_type": "markdown",
   "metadata": {},
   "source": [
    "#설명\n",
    "#### 리스트에 리스트형의 여러 원소를 한꺼번에 추가할 수 있다."
   ]
  },
  {
   "cell_type": "markdown",
   "metadata": {},
   "source": [
    "#\n",
    "   ####7)\n",
    "   ####L[1:3] = [(100, 101, 102)]\n",
    "   ####print L"
   ]
  },
  {
   "cell_type": "code",
   "execution_count": 6,
   "metadata": {
    "collapsed": false,
    "scrolled": true
   },
   "outputs": [
    {
     "name": "stdout",
     "output_type": "stream",
     "text": [
      "[1, (100, 101, 102), 4, 5]\n"
     ]
    }
   ],
   "source": [
    "L = [1,2,3,4,5]\n",
    "L[1:3] = [(100, 101, 102)]\n",
    "print L"
   ]
  },
  {
   "cell_type": "markdown",
   "metadata": {},
   "source": [
    "#설명\n",
    "#### 리스트는 리스트 안에 또 다른 튜플이나 리스트를 원소로 가질 수 있다.\n",
    "#### L[1:3] = [(100, 101, 102)]는 슬라이싱 연산자를 통해 튜플을 원소로 넣는 식이다."
   ]
  },
  {
   "cell_type": "markdown",
   "metadata": {},
   "source": [
    "\n",
    "####8)\n",
    "####L[1:3] = [[100, 101, 102]]\n",
    "####print L"
   ]
  },
  {
   "cell_type": "code",
   "execution_count": 10,
   "metadata": {
    "collapsed": false
   },
   "outputs": [
    {
     "name": "stdout",
     "output_type": "stream",
     "text": [
      "[1, [100, 101, 102], 4, 5]\n"
     ]
    }
   ],
   "source": [
    "L = [1,2,3,4,5]\n",
    "L[1:3] = [[100, 101, 102]]\n",
    "print L"
   ]
  },
  {
   "cell_type": "markdown",
   "metadata": {},
   "source": [
    "#설명\n",
    "#### 위와 마찬가지로 리스트 형을 원소로 추가한 식이다."
   ]
  },
  {
   "cell_type": "markdown",
   "metadata": {},
   "source": [
    "# 2.\n",
    "##문자열 S = 'Hello World and Python'에 대해 다음 요구사항에 대한 Python 코드를 제시하시오.\n",
    "##1) 단어의 순서가 역순으로 되어진 문자열 ('Python and World Hello')을 만들고\n",
    "##2) 1)의 결과 문자열에 대해 메소드 split과 join을 이용하여 공백을 모두 없엔 문자열 'PythonandWorldHello'을 만드시오."
   ]
  },
  {
   "cell_type": "code",
   "execution_count": 7,
   "metadata": {
    "collapsed": false
   },
   "outputs": [
    {
     "name": "stdout",
     "output_type": "stream",
     "text": [
      "Python and World Hello \n",
      "PythonandWorldHello\n"
     ]
    }
   ],
   "source": [
    "S = 'Hello World and Python'\n",
    "W = S.split()\n",
    "S = ''\n",
    "for a in range(4) :   \n",
    "    S += W[3-a]\n",
    "    S += ' '\n",
    "print S\n",
    "\n",
    "W = S.split()\n",
    "result = \"\".join(W)\n",
    "print result"
   ]
  },
  {
   "cell_type": "markdown",
   "metadata": {},
   "source": [
    "#다음 코드를 보고 물음에 답하시오.\n",
    "\n",
    "####a = [1, 2, 3]\n",
    "####b = a * 3\n",
    "####c = [a] * 3\n",
    "####print b\n",
    "####print c\n",
    "\n",
    "###1) 위 코드를 수행한 이후 다음 코드를 수행한 후 b와 c의 내용을 확인하시오.\n",
    "###a[0]=0\n",
    "###2) b와 c 객체의 차이는 무엇인가?"
   ]
  },
  {
   "cell_type": "code",
   "execution_count": 31,
   "metadata": {
    "collapsed": false,
    "scrolled": true
   },
   "outputs": [
    {
     "name": "stdout",
     "output_type": "stream",
     "text": [
      "[1, 2, 3, 1, 2, 3, 1, 2, 3]\n",
      "[[1, 2, 3], [1, 2, 3], [1, 2, 3]]\n",
      "[1, 2, 3, 1, 2, 3, 1, 2, 3]\n",
      "[[0, 2, 3], [0, 2, 3], [0, 2, 3]]\n"
     ]
    }
   ],
   "source": [
    "a = [1, 2, 3]\n",
    "b = a * 3\n",
    "c = [a] * 3\n",
    "print b\n",
    "print c\n",
    "\n",
    "a[0] = 0\n",
    "print b\n",
    "print c"
   ]
  },
  {
   "cell_type": "markdown",
   "metadata": {},
   "source": [
    "#설명\n",
    "### b의 경우 단순히 a의 원소를 반복 복사하여 만든 새로운 리스트 ( b != a )\n",
    "### c는 a라는 리스트 자체를 3번 반복하는 리스트이다. \n",
    "###c는 원소가 사실상 없이 주소값만 세번 반복되는 리스트라고 할 수 있다."
   ]
  },
  {
   "cell_type": "markdown",
   "metadata": {},
   "source": [
    "#다음 문자열을 ':'을 기준으로 분리하여 리스트로 만들고 각 문자열의 좌우 공백을 제거하시오 (즉, 문자열 S에서 l을 만들어라)\n",
    "####s = '  first star   :   second star   :    third star  '\n",
    "####l = ['first star', 'second star', 'third star']\n",
    "###1) for ~ in 문을 이용한 코드를 작성하시오.\n",
    "###2) 리스트 내포(list comprehension)를 이용한 코드를 작성하시오."
   ]
  },
  {
   "cell_type": "code",
   "execution_count": 49,
   "metadata": {
    "collapsed": false,
    "scrolled": true
   },
   "outputs": [
    {
     "name": "stdout",
     "output_type": "stream",
     "text": [
      "['  first star', 'second star', ' third star  ']\n",
      "['first star', 'second star', 'third star']\n"
     ]
    }
   ],
   "source": [
    "s = '  first star   :   second star   :    third star  '\n",
    "l = s.split('   :   ')\n",
    "print l\n",
    "\n",
    "for a in range(3) :\n",
    "    p = l[a].split()\n",
    "    l[a] = ''\n",
    "    for b in range(2) :\n",
    "        l[a] += p[b]\n",
    "        if b%2==0 : l[a] += ' '\n",
    "\n",
    "print l\n",
    "        "
   ]
  },
  {
   "cell_type": "markdown",
   "metadata": {},
   "source": [
    "#다음과 같이 0보다 큰 정수 리스트 변수 list를 인자로 받는 함수 addall(list)와 addallodd(list)를 for ~ in 리터널과 리스트 내포 방식으로 각각 제시하시오.\n",
    "###1) addall(list) 함수 (리스트 내의 모든 정수를 더하는 함수로서 해답으로는 for ~ in 리터럴과 리스트 내포 방식으로 각각 제시하시오.)\n",
    "#### addall([1])\n",
    "####1\n",
    "#### addall([1, 2, 3, 4, 5, 6, 7, 8, 9])\n",
    "####45\n",
    "###2) addallodd(list) 함수 (리스트내의 모든 홀수를 더하는 함수로서 해답으로는 for ~ in 리터럴과 리스트 내포 방식으로 각각 제시하시오.)\n",
    " ####addallodd([1])\n",
    "####1\n",
    " ####addallodd([1, 2, 3, 4, 5, 6, 7, 8, 9])\n",
    "####25\n",
    "###[참고]: 리스트 내포 방식으로 addall() 및 addallodd()함수를 만들 때엔 리스트 내포에 의해 생성된 리스트 결과에 대해 내장 함수를 사용하는 방식을 고려해보시오 (주의: 리스트 내포 방식의 addall() 및 addallodd() 함수의 몸체는 단 1줄로 작성되어야 한다.)"
   ]
  },
  {
   "cell_type": "code",
   "execution_count": 26,
   "metadata": {
    "collapsed": false
   },
   "outputs": [
    {
     "name": "stdout",
     "output_type": "stream",
     "text": [
      "1\n",
      "45\n",
      "1\n",
      "25\n"
     ]
    }
   ],
   "source": [
    "# 1번\n",
    "def addall(list) :\n",
    "    p = 0\n",
    "    \"\"\"for i in list :\n",
    "        p += i\n",
    "    \"\"\"\n",
    "    \n",
    "    print p\n",
    "    \n",
    "    \n",
    "addall([1])\n",
    "addall([1,2,3,4,5,6,7,8,9])\n",
    "\n",
    "# 2번\n",
    "def addallodd(list) :\n",
    "    p = 0\n",
    "    for k in list :\n",
    "        if k % 2  :\n",
    "            p += k\n",
    "    print p\n",
    "    \n",
    "addallodd([1])\n",
    "addallodd([1,2,3,4,5,6,7,8,9])\n",
    "        "
   ]
  },
  {
   "cell_type": "markdown",
   "metadata": {},
   "source": [
    "#다음 코드를 보고 물음에 답하시오.\n",
    "\n",
    "####L1 = [1, 2, 3]\n",
    "####L2 = [4, 5, 6]\n",
    "####d = {'low':L1, 'high':L2}\n",
    "####e = d\n",
    "####f = d.copy()\n",
    "####print d\n",
    "####print e\n",
    "####print f\n",
    "####print\n",
    "####d['low'] = [10, 20, 30]\n",
    "####d['high'][1] = 500\n",
    "####print d\n",
    "####print e\n",
    "####print f\n",
    "###1) 위 코드의 수행 결과 d와 e는 항상 같은 결과를 출력한다. 그 이유는 무엇인가?\n",
    "###2) 위 코드의 수행 결과 마지막 f의 내용은 다음과 같다. 이 때 'high' 키의 값 내용 중 500이 출력된 이유와 'low' 키의 값 내용 중 [1, 2, 3]이 출력된 이유를 설명하시오 ([hint]: shallow copy 관점에서 설명하시오.)\n",
    "###{'high': [4, 500, 6], 'low': [1, 2, 3]}"
   ]
  },
  {
   "cell_type": "code",
   "execution_count": 10,
   "metadata": {
    "collapsed": false
   },
   "outputs": [
    {
     "name": "stdout",
     "output_type": "stream",
     "text": [
      "{'high': [4, 5, 6], 'low': [1, 2, 3]}\n",
      "{'high': [4, 5, 6], 'low': [1, 2, 3]}\n",
      "{'high': [4, 5, 6], 'low': [1, 2, 3]}\n",
      "\n",
      "{'high': [4, 500, 6], 'low': [10, 20, 30]}\n",
      "{'high': [4, 500, 6], 'low': [10, 20, 30]}\n",
      "{'high': [4, 500, 6], 'low': [1, 2, 3]}\n"
     ]
    }
   ],
   "source": [
    "L1 = [1, 2, 3]\n",
    "L2 = [4, 5, 6]\n",
    "d = {'low':L1, 'high':L2}\n",
    "e = d\n",
    "f = d.copy()\n",
    "print d\n",
    "print e\n",
    "print f\n",
    "print\n",
    "d['low'] = [10, 20, 30]\n",
    "d['high'][1] = 500\n",
    "print d\n",
    "print e\n",
    "print f"
   ]
  },
  {
   "cell_type": "markdown",
   "metadata": {},
   "source": [
    "#설명\n",
    "#### 위의 식에서 복사는 크게 사전형과 사전형 안에 있는 리스트의 복사로 나뉘어 있다.\n",
    "#### 위에서 이루어 지는 복사들은 f를 제외하고 전부 얕은 복사들이다.\n",
    "#### e 는 d를 그대로 보여주는 것이다. 반면 f는 d의 주소값(L1, L2)을 다른 주소값에 저장하여 보여주고 있다.\n",
    "#### L1의 값을 500으로 수정했을 때 f가 변한 이유는 L1을 다른 주소에서 가르키고 있을 뿐 L1자체는 얕은 복사이기 때문이다."
   ]
  },
  {
   "cell_type": "markdown",
   "metadata": {},
   "source": [
    "###사전 d = {'one':1, 'two':2, 'three':3, 'four':4, 'five':5}가 주어졌을 때 다음 요구사항에 맞는 코드를 제시하시오\n",
    "###[참고]: d.keys(), d.values()를 통해 리스트를 얻어낸 후 리스트가 지니고 있는 sort(cmp=None, key=None, reverse=False)함수를 활용하시오.\n",
    "###1) 키의 알파벳 오름차순 순서대로 튜플 (키, 값)을 차례대로 출력하시오.\n",
    "###2) 키의 알파벳 내림차순 순서대로 튜플 (키, 값)을 차례대로 출력하시오.\n",
    "###3) 값의 오름차순 순서대로 튜플 (키, 값)을 차례대로 출력하시오.\n",
    "###4) 값의 내림차순 순서대로 튜플 (키, 값)을 차례대로 출력하시오."
   ]
  },
  {
   "cell_type": "code",
   "execution_count": 4,
   "metadata": {
    "collapsed": false
   },
   "outputs": [],
   "source": [
    "d = {'one':1, 'two':2, 'three':3, 'four':4, 'five':5}            \n"
   ]
  },
  {
   "cell_type": "markdown",
   "metadata": {},
   "source": [
    "#[프로젝트 오일러 문제 7]\n",
    "###소수를 크기 순으로 나열하면 2, 3, 5, 7, 11, 13, ... 과 같이 됩니다.\n",
    "\n",
    "###이 때 10,001번째의 소수를 구하세요."
   ]
  },
  {
   "cell_type": "code",
   "execution_count": 24,
   "metadata": {
    "collapsed": false
   },
   "outputs": [
    {
     "name": "stdout",
     "output_type": "stream",
     "text": [
      "104743\n"
     ]
    }
   ],
   "source": [
    "count = 0\n",
    "i = 0\n",
    "j = 0\n",
    "rescut = 0\n",
    "\n",
    "while(1) :\n",
    "    i += 1\n",
    "    count = 0\n",
    "    for j in range(i) :\n",
    "        if i%(j+1) == 0 : count += 1\n",
    "    if count == 2 : rescut += 1\n",
    "    \n",
    "    if rescut == 10001 : \n",
    "        print i\n",
    "        break"
   ]
  },
  {
   "cell_type": "markdown",
   "metadata": {},
   "source": [
    "#[프로젝트 오일러 문제 8]\n",
    "###다음은 연속된 1000자리 숫자입니다 (읽기 좋게 50자리씩 잘라놓음).\n",
    "\n",
    "####73167176531330624919225119674426574742355349194934\n",
    "####96983520312774506326239578318016984801869478851843\n",
    "####85861560789112949495459501737958331952853208805511\n",
    "####12540698747158523863050715693290963295227443043557\n",
    "####66896648950445244523161731856403098711121722383113\n",
    "####62229893423380308135336276614282806444486645238749\n",
    "####30358907296290491560440772390713810515859307960866\n",
    "####70172427121883998797908792274921901699720888093776\n",
    "####65727333001053367881220235421809751254540594752243\n",
    "####52584907711670556013604839586446706324415722155397\n",
    "####53697817977846174064955149290862569321978468622482\n",
    "####83972241375657056057490261407972968652414535100474\n",
    "####82166370484403199890008895243450658541227588666881\n",
    "####16427171479924442928230863465674813919123162824586\n",
    "####17866458359124566529476545682848912883142607690042\n",
    "####24219022671055626321111109370544217506941658960408\n",
    "####07198403850962455444362981230987879927244284909188\n",
    "####84580156166097919133875499200524063689912560717606\n",
    "####05886116467109405077541002256983155200055935729725\n",
    "####71636269561882670428252483600823257530420752963450\n",
    "\n",
    "###여기서 붉게 표시된 71112의 경우 7, 1, 1, 1, 2 각 숫자를 모두 곱하면 14가 됩니다.\n",
    "\n",
    "###이런 식으로 맨 처음 (7 × 3 × 1 × 6 × 7 = 882) 부터 맨 끝 (6 × 3 × 4 × 5 × 0 = 0) 까지 5자리 숫자들의 곱을 구할 수 있습니다.\n",
    "###이렇게 구할 수 있는 5자리 숫자의 곱 중에서 가장 큰 값은 얼마입니까?"
   ]
  },
  {
   "cell_type": "code",
   "execution_count": 3,
   "metadata": {
    "collapsed": false
   },
   "outputs": [
    {
     "ename": "SyntaxError",
     "evalue": "invalid token (<ipython-input-3-2ab240af74f2>, line 20)",
     "output_type": "error",
     "traceback": [
      "\u001b[1;36m  File \u001b[1;32m\"<ipython-input-3-2ab240af74f2>\"\u001b[1;36m, line \u001b[1;32m20\u001b[0m\n\u001b[1;33m    [07198403850962455444362981230987879927244284909188],\u001b[0m\n\u001b[1;37m                                                      ^\u001b[0m\n\u001b[1;31mSyntaxError\u001b[0m\u001b[1;31m:\u001b[0m invalid token\n"
     ]
    }
   ],
   "source": [
    "#이중 배열?\n",
    "#문자를 숫자로 바꿔서 하나씩? \n",
    "\n",
    "num =  [[73167176531330624919225119674426574742355349194934],\n",
    "        [96983520312774506326239578318016984801869478851843],\n",
    "        [85861560789112949495459501737958331952853208805511],\n",
    "        [12540698747158523863050715693290963295227443043557],\n",
    "        [66896648950445244523161731856403098711121722383113],\n",
    "        [62229893423380308135336276614282806444486645238749],\n",
    "        [30358907296290491560440772390713810515859307960866],\n",
    "        [70172427121883998797908792274921901699720888093776],\n",
    "        [65727333001053367881220235421809751254540594752243],\n",
    "        [52584907711670556013604839586446706324415722155397],\n",
    "        [53697817977846174064955149290862569321978468622482],\n",
    "        [83972241375657056057490261407972968652414535100474],\n",
    "        [82166370484403199890008895243450658541227588666881],\n",
    "        [16427171479924442928230863465674813919123162824586],\n",
    "        [17866458359124566529476545682848912883142607690042],\n",
    "        [24219022671055626321111109370544217506941658960408],\n",
    "        [07198403850962455444362981230987879927244284909188],\n",
    "        [84580156166097919133875499200524063689912560717606],\n",
    "        [05886116467109405077541002256983155200055935729725],\n",
    "        [71636269561882670428252483600823257530420752963450]]             #2중 배열에서 돌아가며 하나씩 반환하여 리스트화\n",
    "l = []\n",
    "i = 0\n",
    "j = 0\n",
    "print type(num)            #실패;;         \n",
    "\n",
    "   \n",
    "    \n",
    "print num"
   ]
  },
  {
   "cell_type": "markdown",
   "metadata": {},
   "source": [
    "#[프로젝트 오일러 문제 9]\n",
    "###세 자연수 a, b, c 가 피타고라스 정리 a2 + b2 = c2 를 만족하면 피타고라스 수라고 부릅니다 (여기서 a < b < c ).\n",
    "###예를 들면 32 + 42 = 9 + 16 = 25 = 52이므로 3, 4, 5는 피타고라스 수입니다.\n",
    "\n",
    "###a + b + c = 1000 인 피타고라스 수 a, b, c는 한 가지 뿐입니다. 이 때, a × b × c 는 얼마입니까?"
   ]
  },
  {
   "cell_type": "code",
   "execution_count": null,
   "metadata": {
    "collapsed": false
   },
   "outputs": [],
   "source": [
    "for c in range(1000) :\n",
    "    for b in range(c) :\n",
    "        for a in range(b) :\n",
    "            c = c*c\n",
    "            if a+b >= c :\n",
    "                break\n",
    "            elif a*a+b*b == c :\n",
    "               \n",
    "                if a+b+c == 1000 :  print a*b*c\n"
   ]
  },
  {
   "cell_type": "markdown",
   "metadata": {},
   "source": [
    "###[Incremental Project] 이전 Assignment 2의 마지막 문제는 웹 URL로 지정된 웹페이지를 문자열로 가져와 모든 HTML 태그 및 CSS와 Javascript를 제외한 순수 텍스트를 얻어내고 그 안에 존재하는 단어를 추출하고 단어들의 총 개수를 출력하는 프로그램을 작성하는 것이었다. 이번에는 그 마지막 숙제를 그대로 확장하여 웹 URL로 지정된 웹페이지 내 순수 텍스트 안에 존재하는 각 단어들에 대해 다음 요구사항 대로 출력하는 프로그램을 작성하시오.\n",
    "###요구사항 1. 순수 텍스트 안에 존재하는 단어들에 대해 string 모듈을 활용하여 모든 punctuation (구두문자)를 완벽히 제거하시오.\n",
    "###예: ['world!', ':', '+hello+', '~python$$$', '=', 'world'] ---> ['world', 'hello', 'python', 'world']\n",
    "모든 punctuation을 확인하는 방법은 아래와 같다.\n",
    "import string\n",
    "print string.punctuation\n",
    "요구사항 2. 만약 punctuation (구두문자)를 제거한 이후 공백으로 판명되는 단어들은 해당 단어 리스트에서 제거하시오.\n",
    "예: ['컴퓨터공학부!', '---?', '%지향~', '...'] ---> ['컴퓨터공학부', '지향']\n",
    "요구사항 3. 각 단어들의 출현빈도를 사전형태로 저장하여 출력하시오.\n",
    "예: ['world', 'hello', 'python', 'world', '컴퓨터공학부', '지향'] ---> {'world': 2, 'hello': 1, 'python': 1, '컴퓨터공학부': 1, '지향': 1}\n",
    "요구사항 4. 다음 3개의 사이트에 대한 결과를 출력하시오.\n",
    "http://www.naver.com\n",
    "http://www.daum.net\n",
    "http://www.nytimes.com"
   ]
  },
  {
   "cell_type": "code",
   "execution_count": null,
   "metadata": {
    "collapsed": true
   },
   "outputs": [],
   "source": []
  }
 ],
 "metadata": {
  "kernelspec": {
   "display_name": "Python 2",
   "language": "python",
   "name": "python2"
  },
  "language_info": {
   "codemirror_mode": {
    "name": "ipython",
    "version": 2
   },
   "file_extension": ".py",
   "mimetype": "text/x-python",
   "name": "python",
   "nbconvert_exporter": "python",
   "pygments_lexer": "ipython2",
   "version": "2.7.9"
  }
 },
 "nbformat": 4,
 "nbformat_minor": 0
}
