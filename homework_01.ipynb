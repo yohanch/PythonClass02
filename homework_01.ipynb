{
 "cells": [
  {
   "cell_type": "markdown",
   "metadata": {},
   "source": [
    "#과제1"
   ]
  },
  {
   "cell_type": "markdown",
   "metadata": {},
   "source": [
    "1.다음은 math 모듈을 가져오는 코딩이다. math 모듈을 가져온 후 math 모듈에 정의된 함수를 이용하여 -4.3 값을 반올림한 후 절대값을 취하는 코딩을 한 줄로 완성하라."
   ]
  },
  {
   "cell_type": "code",
   "execution_count": 2,
   "metadata": {
    "collapsed": false
   },
   "outputs": [
    {
     "name": "stdout",
     "output_type": "stream",
     "text": [
      "4.0\n"
     ]
    }
   ],
   "source": [
    "a = -4.3\n",
    "print abs(round(a))"
   ]
  },
  {
   "cell_type": "raw",
   "metadata": {
    "collapsed": true
   },
   "source": [
    "해설 : 교수님이 설명해주신 것과 다르게 math 모듈을 사용하지 않아도 내장 함수 round()와 abs()만 사용해서 원하는 답을 얻을수 있습니다."
   ]
  },
  {
   "cell_type": "raw",
   "metadata": {},
   "source": [
    "2.다음은 두 점의 좌표 (x1, x2), (y1, y2)를 나타내는 변수 값들이다. math 모듈에 정의된 함수를 이용하여 이 두 점 사이의 거리를 구하는 식을 한 줄로 완성하라. "
   ]
  },
  {
   "cell_type": "code",
   "execution_count": 9,
   "metadata": {
    "collapsed": true
   },
   "outputs": [],
   "source": [
    "x1 = 10\n",
    "x2 = 20\n",
    "\n",
    "y1 = 30\n",
    "y2 = 40"
   ]
  },
  {
   "cell_type": "code",
   "execution_count": 12,
   "metadata": {
    "collapsed": false
   },
   "outputs": [
    {
     "name": "stdout",
     "output_type": "stream",
     "text": [
      "14.1421356237\n"
     ]
    }
   ],
   "source": [
    "import math\n",
    "line = math.sqrt(pow((x2 - x1),2) + pow((y2 - y1),2))\n",
    "print line"
   ]
  },
  {
   "cell_type": "raw",
   "metadata": {},
   "source": [
    "해설 : math 함수의 sqrt(제곱근) 함수와 pow(제곱함수)를 이용하여 두 선의 거리를 구할수 있다.\n",
    "       참고 : (x1,y1)와 (x2,y2) 두 점 사이의 거리를 구함"
   ]
  }
 ],
 "metadata": {
  "kernelspec": {
   "display_name": "Python 2",
   "language": "python",
   "name": "python2"
  },
  "language_info": {
   "codemirror_mode": {
    "name": "ipython",
    "version": 2
   },
   "file_extension": ".py",
   "mimetype": "text/x-python",
   "name": "python",
   "nbconvert_exporter": "python",
   "pygments_lexer": "ipython2",
   "version": "2.7.9"
  }
 },
 "nbformat": 4,
 "nbformat_minor": 0
}
