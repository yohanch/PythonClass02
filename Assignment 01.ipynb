{
 "cells": [
  {
   "cell_type": "markdown",
   "metadata": {},
   "source": [
    "# 과제 1\n",
    "## 2011136110 정요한"
   ]
  },
  {
   "cell_type": "raw",
   "metadata": {},
   "source": [
    "⑴ a=\"Hello Python\" 문자열을 Slicing과 연결 연산자 (+)를 사용하여 \"Python Hello\"로 변경하시오.\n",
    "◎[주의] a 변수 자체에 \"Python Hello\" 문자열이 저장되어야 함"
   ]
  },
  {
   "cell_type": "code",
   "execution_count": 13,
   "metadata": {
    "collapsed": false
   },
   "outputs": [
    {
     "name": "stdout",
     "output_type": "stream",
     "text": [
      " Python Hello\n"
     ]
    }
   ],
   "source": [
    "a = \"Hello Python\"\n",
    "a = a[5:]\n",
    "a = a + \" Hello\"\n",
    "print a"
   ]
  },
  {
   "cell_type": "raw",
   "metadata": {
    "collapsed": true
   },
   "source": [
    "⑵ b=\"Hello Python World\" 문자열을 Slicing과 연결 연산자 (+)를 사용하여 \"World Python Hello\"로 변경하시오. \n",
    "◎[주의] b 변수 자체에 \"Python Hello\" 문자열이 저장되어야 함"
   ]
  },
  {
   "cell_type": "code",
   "execution_count": 14,
   "metadata": {
    "collapsed": false
   },
   "outputs": [
    {
     "name": "stdout",
     "output_type": "stream",
     "text": [
      "World Python Hello\n"
     ]
    }
   ],
   "source": [
    "b = \"Hello Python World\"\n",
    "b = b[6:13] + \"Hello\"\n",
    "\n",
    "print \"World \" + b"
   ]
  },
  {
   "cell_type": "raw",
   "metadata": {
    "collapsed": true
   },
   "source": [
    "⑶ c=\"Hello\"를 \"olleH\"로 변경하시오.\n",
    "◎[주의] c 변수 자체에 \"olleH\" 문자열이 저장되어야 함"
   ]
  },
  {
   "cell_type": "code",
   "execution_count": 15,
   "metadata": {
    "collapsed": false
   },
   "outputs": [
    {
     "name": "stdout",
     "output_type": "stream",
     "text": [
      "olleH\n"
     ]
    }
   ],
   "source": [
    "c = \"Hello\"\n",
    "c = c[::-1]\n",
    "print c"
   ]
  },
  {
   "cell_type": "raw",
   "metadata": {
    "collapsed": true
   },
   "source": [
    "⑷ s=\"python\"에 대해 다음 문제를 풀어보시오.\n",
    "① s[0], s[0][0], s[0][0][0]은 각각 어떤 값이 나오는지 확인하고 그 이유를 나름대로 설명해 보시오.\n",
    "② s[-100], s[100]은 값이 나오는지 에러가 나오는지 확인하고 그 결과에 대한 이유를 나름대로 설명해 보시오.\n",
    "③ s[-100, 100]은 값이 나오는지 에러가 나오는지 확인하고 그 결과에 대한 이유를 나름대로 설명해 보시오.\n",
    "④ s[1:-1]의 결과를 확인하고 그 결과에 대한 이유를 정확하게 설명하시오.\n",
    "⑤ s[3:-3]의 결과를 확인하고 그 결과에 대한 이유를 정확하게 설명하시오."
   ]
  },
  {
   "cell_type": "code",
   "execution_count": 16,
   "metadata": {
    "collapsed": false
   },
   "outputs": [
    {
     "name": "stdout",
     "output_type": "stream",
     "text": [
      "p\n",
      "p\n",
      "p\n",
      "ytho\n",
      "\n",
      "python\n"
     ]
    },
    {
     "ename": "TypeError",
     "evalue": "string indices must be integers, not tuple",
     "output_type": "error",
     "traceback": [
      "\u001b[1;31m---------------------------------------------------------------------------\u001b[0m",
      "\u001b[1;31mTypeError\u001b[0m                                 Traceback (most recent call last)",
      "\u001b[1;32m<ipython-input-16-1819f1cfad4f>\u001b[0m in \u001b[0;36m<module>\u001b[1;34m()\u001b[0m\n\u001b[0;32m      8\u001b[0m \u001b[1;32mprint\u001b[0m \u001b[0ms\u001b[0m\u001b[1;33m[\u001b[0m\u001b[1;33m-\u001b[0m\u001b[1;36m100\u001b[0m\u001b[1;33m:\u001b[0m\u001b[1;36m100\u001b[0m\u001b[1;33m]\u001b[0m\u001b[1;33m\u001b[0m\u001b[0m\n\u001b[0;32m      9\u001b[0m \u001b[1;33m\u001b[0m\u001b[0m\n\u001b[1;32m---> 10\u001b[1;33m \u001b[1;32mprint\u001b[0m \u001b[0ms\u001b[0m\u001b[1;33m[\u001b[0m\u001b[1;33m-\u001b[0m\u001b[1;36m100\u001b[0m\u001b[1;33m,\u001b[0m \u001b[1;36m100\u001b[0m\u001b[1;33m]\u001b[0m\u001b[1;33m\u001b[0m\u001b[0m\n\u001b[0m\u001b[0;32m     11\u001b[0m \u001b[1;32mprint\u001b[0m \u001b[0ms\u001b[0m\u001b[1;33m[\u001b[0m\u001b[1;36m100\u001b[0m\u001b[1;33m]\u001b[0m\u001b[1;33m\u001b[0m\u001b[0m\n\u001b[0;32m     12\u001b[0m \u001b[1;32mprint\u001b[0m \u001b[0ms\u001b[0m\u001b[1;33m[\u001b[0m\u001b[1;33m-\u001b[0m\u001b[1;36m100\u001b[0m\u001b[1;33m]\u001b[0m\u001b[1;33m\u001b[0m\u001b[0m\n",
      "\u001b[1;31mTypeError\u001b[0m: string indices must be integers, not tuple"
     ]
    }
   ],
   "source": [
    "s = \"python\"\n",
    "print s[0]\n",
    "print s[0][0]\n",
    "print s[0][0][0]\n",
    "\n",
    "print s[1:-1]\n",
    "print s[3:-3]\n",
    "print s[-100:100]\n",
    "\n",
    "print s[-100, 100]\n",
    "print s[100]\n",
    "print s[-100]"
   ]
  },
  {
   "cell_type": "raw",
   "metadata": {},
   "source": [
    "1) [0]은 1차원 배열에서 주소값을 나타낸다.\n",
    "   [0][0]이나 [0][0][0]은 1차원 주소값은 아니지만 가장 첫 줄만 쓰여졌기 때문에 1차원 배열과 마찬가지로 취급을 받는다.\n",
    "   2차원 배열에서 [0][1]이나 3차원 배열에서 [0][0][1]과 같은 출력값이 오류가 나는 것을 보면 알 수 있다.\n",
    "\n",
    "2) s[100]과 s[-100]은 존재하지도 않는 주소값이다. python은 [5]까지만 존재하기 때문에 그 이상은 메모리가 할당되어 있지 않다.\n",
    "\n",
    "3) s[-100, 100]은 [a,b]라는 주소가 에러가 난다. 아마 [-100 : 100]이었던것 같다. 만약 이렇게 입력했을 경우 python은 정상적으로 출력 된다.\n",
    "   [-100]부터 [100]까지 값이 있는 것을 검색하여 범위 내에 모든 값을 반환하기 때문에 출력이 된다.\n",
    "   (범위가 유효한지 유효하지 않은지는 중요하지 않은것 같다. 있으면 반환 없으면 None)\n",
    "   \n",
    "4) s[1:-1] 은 s[1]부터 시작해서 s[-1]즉 끝에서 두번째(s[4])까지 출력하는 것을 의미한다.\n",
    "\n",
    "5) s[3:-3]은 s[3]부터 시작하여 뒤에서 3번지인 s[2]까지 출력하는 것을 의미한다.\n",
    "   , 이때에 경우 끝이 시작보다 앞에 있기때문에 시작하기도 전에 출력이 끝나버리는 사태가 나온다. 그래서 출력이 없다."
   ]
  },
  {
   "cell_type": "raw",
   "metadata": {
    "collapsed": true
   },
   "source": [
    "⑸ for문을 활용하여 1부터 100사이의 홀수를 출력하시오."
   ]
  },
  {
   "cell_type": "code",
   "execution_count": 17,
   "metadata": {
    "collapsed": false
   },
   "outputs": [
    {
     "name": "stdout",
     "output_type": "stream",
     "text": [
      "1\n",
      "3\n",
      "5\n",
      "7\n",
      "9\n",
      "11\n",
      "13\n",
      "15\n",
      "17\n",
      "19\n",
      "21\n",
      "23\n",
      "25\n",
      "27\n",
      "29\n",
      "31\n",
      "33\n",
      "35\n",
      "37\n",
      "39\n",
      "41\n",
      "43\n",
      "45\n",
      "47\n",
      "49\n",
      "51\n",
      "53\n",
      "55\n",
      "57\n",
      "59\n",
      "61\n",
      "63\n",
      "65\n",
      "67\n",
      "69\n",
      "71\n",
      "73\n",
      "75\n",
      "77\n",
      "79\n",
      "81\n",
      "83\n",
      "85\n",
      "87\n",
      "89\n",
      "91\n",
      "93\n",
      "95\n",
      "97\n",
      "99\n"
     ]
    }
   ],
   "source": [
    "for i in range(1,100,2) :\n",
    "    print i"
   ]
  },
  {
   "cell_type": "raw",
   "metadata": {},
   "source": [
    "⑹ while문을 활용하여 1부터 100사이의 짝수의 합을 계산하여 출력하시오."
   ]
  },
  {
   "cell_type": "code",
   "execution_count": 18,
   "metadata": {
    "collapsed": false
   },
   "outputs": [
    {
     "name": "stdout",
     "output_type": "stream",
     "text": [
      "2550\n"
     ]
    }
   ],
   "source": [
    "sum = 0\n",
    "i = 2\n",
    "while i <= 100 :\n",
    "    sum += i\n",
    "    i +=2\n",
    "    \n",
    "print sum"
   ]
  },
  {
   "cell_type": "raw",
   "metadata": {},
   "source": [
    "⑺ 사용자로 부터 임의의 정수를 입력받고, 해당 숫자를 역순으로 출력하는 프로그램을 작성하시오.\n",
    "[실행 예]\n",
    "정수를 입력하세요: 3125\n",
    "숫자 역순은 5213 입니다."
   ]
  },
  {
   "cell_type": "code",
   "execution_count": 19,
   "metadata": {
    "collapsed": false
   },
   "outputs": [
    {
     "name": "stdout",
     "output_type": "stream",
     "text": [
      "정수를 입력하세요 : \n",
      "15345\n",
      "숫자의 역순은 54351 입니다\n"
     ]
    }
   ],
   "source": [
    "print \"정수를 입력하세요 : \"\n",
    "a = input()\n",
    "b = 0\n",
    "while(True) :\n",
    "    b = b + (a%10)\n",
    "    a /= 10\n",
    "    if (a)==0 : break\n",
    "    b *= 10\n",
    "\n",
    "print \"숫자의 역순은\", b, \"입니다\" "
   ]
  },
  {
   "cell_type": "raw",
   "metadata": {},
   "source": [
    "⑻ 사용자로 부터 정수를 입력받아서 1부터 그 사이에 존재하는 소수 (Prime number)를 출력하는 파이썬 프로그램을 작성하시오."
   ]
  },
  {
   "cell_type": "code",
   "execution_count": 4,
   "metadata": {
    "collapsed": false
   },
   "outputs": [
    {
     "name": "stdout",
     "output_type": "stream",
     "text": [
      "정수를 입력하세요\n",
      "25\n",
      "2\n",
      "3\n",
      "5\n",
      "7\n",
      "11\n",
      "13\n",
      "17\n",
      "19\n",
      "23\n"
     ]
    }
   ],
   "source": [
    "print \"정수를 입력하세요\"\n",
    "num1 = input()\n",
    "\n",
    "for i in range(1, num1) :\n",
    "    count = 0;\n",
    "    if i == 1 : continue\n",
    "    for j in range(1,i+1) :\n",
    "        if((i%j) == 0 ) :\n",
    "            count += 1\n",
    "    if(count == 2) : print i"
   ]
  },
  {
   "cell_type": "raw",
   "metadata": {
    "collapsed": true
   },
   "source": [
    "⑼ [프로젝트 오일러 문제 1]\n",
    "    10보다 작은 자연수 중에서 3 또는 5의 배수는 3, 5, 6, 9 이고, 이것을 모두 더하면 23입니다.\n",
    "\n",
    "    1000보다 작은 자연수 중에서 3 또는 5의 배수를 모두 더하면 얼마일까요?"
   ]
  },
  {
   "cell_type": "code",
   "execution_count": 5,
   "metadata": {
    "collapsed": false
   },
   "outputs": [
    {
     "name": "stdout",
     "output_type": "stream",
     "text": [
      "233168\n"
     ]
    }
   ],
   "source": [
    "result = 0\n",
    "for i in range(1,1000) :\n",
    "    if (i%3) == 0 : result += i\n",
    "    if (i%5) == 0 : result += i\n",
    "    if (i%15) == 0 : result -= i\n",
    "    \n",
    "print result"
   ]
  },
  {
   "cell_type": "raw",
   "metadata": {
    "collapsed": true
   },
   "source": [
    "⑽ [프로젝트 오일러 문제 2]\n",
    "    짝수이면서 4백만 이하인 모든 항을 더하면 얼마가 됩니까"
   ]
  },
  {
   "cell_type": "code",
   "execution_count": 9,
   "metadata": {
    "collapsed": false
   },
   "outputs": [
    {
     "name": "stdout",
     "output_type": "stream",
     "text": [
      "4613732\n"
     ]
    }
   ],
   "source": [
    "a = range(256)\n",
    "a[0] = 1\n",
    "a[1] = 1\n",
    "i = 2\n",
    "result = 0\n",
    "\n",
    "while(True) :\n",
    "    a[i] = a[i-1] + a[i-2]\n",
    "    \n",
    "    if a[i] >= 4000000 : break\n",
    "    if (a[i] % 2) == 0 : result += a[i]\n",
    "    i += 1\n",
    "    \n",
    "print result"
   ]
  },
  {
   "cell_type": "raw",
   "metadata": {
    "collapsed": true
   },
   "source": [
    "⑾ [프로젝트 오일러 문제 3]\n",
    "    어떤 수를 소수의 곱으로만 나타내는 것을 소인수분해라 하고, 이 소수들을 그 수의 소인수라고 합니다.\n",
    "    예를 들면 13195의 소인수는 5, 7, 13, 29 입니다.\n",
    "\n",
    "    600851475143의 소인수 중에서 가장 큰 수를 구하세요"
   ]
  },
  {
   "cell_type": "code",
   "execution_count": 24,
   "metadata": {
    "collapsed": false,
    "scrolled": true
   },
   "outputs": [
    {
     "name": "stdout",
     "output_type": "stream",
     "text": [
      "6857\n"
     ]
    }
   ],
   "source": [
    "num = 600851475143\n",
    "max_prime = 0\n",
    "i = 1\n",
    "while(True) :\n",
    "    count = 0\n",
    "    if (num % i) == 0 : \n",
    "        num /= i\n",
    "        for j in range(1,i+1) :\n",
    "            if i%j == 0 : count += 1\n",
    "        if count == 2 : max_prime = i\n",
    "    i += 1\n",
    "    if i>1000000 : break\n",
    "print max_prime"
   ]
  }
 ],
 "metadata": {
  "kernelspec": {
   "display_name": "Python 2",
   "language": "python",
   "name": "python2"
  },
  "language_info": {
   "codemirror_mode": {
    "name": "ipython",
    "version": 2
   },
   "file_extension": ".py",
   "mimetype": "text/x-python",
   "name": "python",
   "nbconvert_exporter": "python",
   "pygments_lexer": "ipython2",
   "version": "2.7.9"
  }
 },
 "nbformat": 4,
 "nbformat_minor": 0
}
