{
 "cells": [
  {
   "cell_type": "raw",
   "metadata": {},
   "source": [
    "단순 연결리스트\n",
    "\n",
    "형태 : 노드1 => 노드2 => 노드3 ..."
   ]
  },
  {
   "cell_type": "code",
   "execution_count": 2,
   "metadata": {
    "collapsed": false
   },
   "outputs": [
    {
     "name": "stdout",
     "output_type": "stream",
     "text": [
      "원본 : \n",
      "1 2 3.33333 four\n",
      "수정 후 : \n",
      "new 1 3.33333 four\n"
     ]
    }
   ],
   "source": [
    "\n",
    "\"\"\" \n",
    "노드 정의 : data = 노드의 값\n",
    "            next = 다음 노드의 값(주소?)\n",
    "\"\"\"\n",
    "class Node:\n",
    "    def __init__(self, data, next=None):\n",
    "        self.data = data\n",
    "        self.next = next\n",
    "\n",
    "\"\"\"\n",
    "자료 초기화\n",
    "1 2 3.33333 four\n",
    "\"\"\"\n",
    "def init_list():\n",
    "    global node1\n",
    "    node1 = Node(1)\n",
    "    node2 = Node(2)\n",
    "    node3 = Node(3.33333)\n",
    "    node4 = Node(\"four\")\n",
    "    node1.next = node2\n",
    "    node2.next = node3\n",
    "    node3.next = node4\n",
    "\n",
    "    \n",
    "\"\"\"\n",
    "노드 삭제 정의\n",
    "삭제할 값을 입력하면 순차적으로 검색\n",
    "값을 비교하여 삭제함\n",
    "\"\"\"\n",
    "def delete_node(del_data):\n",
    "    global node1\n",
    "    pre_node = node1\n",
    "    next_node = pre_node.next\n",
    "\n",
    "    if pre_node.data == del_data:\n",
    "        node1 = next_node\n",
    "        del pre_node\n",
    "        return\n",
    "    \n",
    "    while next_node:\n",
    "        if next_node.data == del_data:\n",
    "            pre_node.next = next_node.next\n",
    "            del next_node\n",
    "            break\n",
    "        pre_node = next_node\n",
    "        next_node = next_node.next\n",
    " \n",
    "\"\"\"\n",
    "추가 노드 \n",
    "\"\"\"\n",
    "def insert_node(ins_data):\n",
    "    global node1\n",
    "    new_node = Node(ins_data)\n",
    "    new_node.next = node1\n",
    "    node1 = new_node\n",
    " \n",
    "\"\"\"\n",
    "출력\n",
    "\"\"\"\n",
    "def print_list():\n",
    "    global node1\n",
    "    node = node1\n",
    "    while node:\n",
    "        print node.data,\n",
    "        node = node.next\n",
    "    print\n",
    " \n",
    "\n",
    "\"\"\"\n",
    "실행부분\n",
    "\"\"\"\n",
    "def Main():\n",
    "    init_list()\n",
    "    print(\"원본 : \")\n",
    "    print_list()\n",
    "    delete_node(2)\n",
    "    insert_node(\"new\")\n",
    "    print(\"수정 후 : \")\n",
    "    print_list()\n",
    "\n",
    "Main()"
   ]
  },
  {
   "cell_type": "raw",
   "metadata": {},
   "source": [
    "1 2 3.33333 four 였던 노드가 \n",
    "메인에서 실행되는 삭제와 추가에 의해 \n",
    "위와같이 변경됨"
   ]
  }
 ],
 "metadata": {
  "kernelspec": {
   "display_name": "Python 2",
   "language": "python",
   "name": "python2"
  },
  "language_info": {
   "codemirror_mode": {
    "name": "ipython",
    "version": 2
   },
   "file_extension": ".py",
   "mimetype": "text/x-python",
   "name": "python",
   "nbconvert_exporter": "python",
   "pygments_lexer": "ipython2",
   "version": "2.7.9"
  }
 },
 "nbformat": 4,
 "nbformat_minor": 0
}
